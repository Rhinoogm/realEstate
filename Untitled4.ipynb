{
 "cells": [
  {
   "cell_type": "code",
   "execution_count": 2,
   "id": "dfde2bad",
   "metadata": {},
   "outputs": [
    {
     "name": "stdout",
     "output_type": "stream",
     "text": [
      "apple\n"
     ]
    }
   ],
   "source": [
    "from sklearn.feature_extraction.text import TfidfVectorizer\n",
    "from sklearn.metrics.pairwise import cosine_similarity\n",
    "\n",
    "def find_similar_string(target, string_list):\n",
    "    vectorizer = TfidfVectorizer()\n",
    "    vectors = vectorizer.fit_transform([target] + string_list)\n",
    "    similarity_scores = cosine_similarity(vectors[0], vectors[1:]).flatten()\n",
    "    max_score_index = similarity_scores.argmax()\n",
    "    similar_string = string_list[max_score_index]\n",
    "\n",
    "    return similar_string\n",
    "\n",
    "# 예시를 위한 리스트\n",
    "string_list = ['apple', 'banana', 'orange', 'kiwi']\n",
    "\n",
    "# 비교할 문자열\n",
    "target_string = 'aple'\n",
    "\n",
    "# 가장 비슷한 문자열 찾기\n",
    "similar_string = find_similar_string(target_string, string_list)\n",
    "print(similar_string)\n"
   ]
  },
  {
   "cell_type": "code",
   "execution_count": null,
   "id": "b83c5263",
   "metadata": {},
   "outputs": [],
   "source": []
  },
  {
   "cell_type": "code",
   "execution_count": null,
   "id": "84182f23",
   "metadata": {},
   "outputs": [],
   "source": []
  }
 ],
 "metadata": {
  "kernelspec": {
   "display_name": "Python 3 (ipykernel)",
   "language": "python",
   "name": "python3"
  },
  "language_info": {
   "codemirror_mode": {
    "name": "ipython",
    "version": 3
   },
   "file_extension": ".py",
   "mimetype": "text/x-python",
   "name": "python",
   "nbconvert_exporter": "python",
   "pygments_lexer": "ipython3",
   "version": "3.10.11"
  }
 },
 "nbformat": 4,
 "nbformat_minor": 5
}
