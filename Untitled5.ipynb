{
 "cells": [
  {
   "cell_type": "code",
   "execution_count": null,
   "id": "5e13d5ff",
   "metadata": {},
   "outputs": [],
   "source": [
    "# 호갱노노 로그인 하기\n",
    "from selenium import webdriver\n",
    "from selenium.webdriver import ActionChains\n",
    "from selenium.webdriver.chrome.service import Service\n",
    "from selenium.webdriver.common.by import By\n",
    "from webdriver_manager.chrome import ChromeDriverManager\n",
    "from selenium.webdriver.common.keys import Keys\n",
    "import time\n",
    "\n",
    "try:\n",
    "    driver = webdriver.Chrome(service = Service(ChromeDriverManager().install()))\n",
    "\n",
    "    # 해당 링크로 접속\n",
    "    driver.get('https://app.catchtable.co.kr/ct/shop/hitoritheblack')\n",
    "    driver.implicitly_wait(10)\n",
    "    \n",
    "    # 휴대전화 로그인 선택\n",
    "    temp = driver.find_element(By.XPATH, '//*[@id=\"scrollContainer_1689517612_194\"]/div/div[1]/button[2]').send_keys(Keys.ENTER)\n",
    "    driver.implicitly_wait(10)\n",
    "\n",
    "#     browser.execute_script(\"arguments[0].click();\", sample) \n",
    "\n",
    "\n",
    "\n",
    "    # driver 종료\n",
    "#     driver.quit()\n",
    "except Exception as e:\n",
    "    print(e)\n"
   ]
  },
  {
   "cell_type": "code",
   "execution_count": null,
   "id": "6af3dfb6",
   "metadata": {},
   "outputs": [],
   "source": []
  }
 ],
 "metadata": {
  "kernelspec": {
   "display_name": "Python 3 (ipykernel)",
   "language": "python",
   "name": "python3"
  },
  "language_info": {
   "codemirror_mode": {
    "name": "ipython",
    "version": 3
   },
   "file_extension": ".py",
   "mimetype": "text/x-python",
   "name": "python",
   "nbconvert_exporter": "python",
   "pygments_lexer": "ipython3",
   "version": "3.10.11"
  }
 },
 "nbformat": 4,
 "nbformat_minor": 5
}
