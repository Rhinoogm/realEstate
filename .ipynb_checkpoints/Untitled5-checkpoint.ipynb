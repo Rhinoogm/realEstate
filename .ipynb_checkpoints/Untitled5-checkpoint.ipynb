{
 "cells": [
  {
   "cell_type": "code",
   "execution_count": 3,
   "id": "7f572769",
   "metadata": {},
   "outputs": [
    {
     "name": "stdout",
     "output_type": "stream",
     "text": [
      "Message: no such element: Unable to locate element: {\"method\":\"xpath\",\"selector\":\"//*[@id=\"scrollContainer_1689517248_364\"]/div/div[1]/a[7]/span\"}\n",
      "  (Session info: chrome=114.0.5735.198); For documentation on this error, please visit: https://www.selenium.dev/documentation/webdriver/troubleshooting/errors#no-such-element-exception\n",
      "Stacktrace:\n",
      "0   chromedriver                        0x0000000102917f48 chromedriver + 4226888\n",
      "1   chromedriver                        0x00000001029104f4 chromedriver + 4195572\n",
      "2   chromedriver                        0x0000000102554d68 chromedriver + 281960\n",
      "3   chromedriver                        0x000000010258ffc8 chromedriver + 524232\n",
      "4   chromedriver                        0x00000001025c6c58 chromedriver + 748632\n",
      "5   chromedriver                        0x0000000102583f1c chromedriver + 474908\n",
      "6   chromedriver                        0x0000000102584ef4 chromedriver + 478964\n",
      "7   chromedriver                        0x00000001028d959c chromedriver + 3970460\n",
      "8   chromedriver                        0x00000001028dd6f0 chromedriver + 3987184\n",
      "9   chromedriver                        0x00000001028e35b4 chromedriver + 4011444\n",
      "10  chromedriver                        0x00000001028de2fc chromedriver + 3990268\n",
      "11  chromedriver                        0x00000001028b61c0 chromedriver + 3826112\n",
      "12  chromedriver                        0x00000001028fa088 chromedriver + 4104328\n",
      "13  chromedriver                        0x00000001028fa1e0 chromedriver + 4104672\n",
      "14  chromedriver                        0x0000000102909f28 chromedriver + 4169512\n",
      "15  libsystem_pthread.dylib             0x0000000192e0ffa8 _pthread_start + 148\n",
      "16  libsystem_pthread.dylib             0x0000000192e0ada0 thread_start + 8\n",
      "\n"
     ]
    }
   ],
   "source": [
    "# 호갱노노 로그인 하기\n",
    "from selenium import webdriver\n",
    "from selenium.webdriver import ActionChains\n",
    "from selenium.webdriver.chrome.service import Service\n",
    "from selenium.webdriver.common.by import By\n",
    "from webdriver_manager.chrome import ChromeDriverManager\n",
    "from selenium.webdriver.common.keys import Keys\n",
    "import time\n",
    "\n",
    "try:\n",
    "    driver = webdriver.Chrome(service = Service(ChromeDriverManager().install()))\n",
    "\n",
    "    # 해당 링크로 접속\n",
    "    driver.get('https://app.catchtable.co.kr/ct/shop/hitoritheblack')\n",
    "    driver.implicitly_wait(10)\n",
    "    \n",
    "    # 휴대전화 로그인 선택\n",
    "    driver.find_element(By.XPATH, '//*[@id=\"scrollContainer_1689517248_364\"]/div/div[1]/a[7]/span').click()\n",
    "    driver.implicitly_wait(10)\n",
    "\n",
    "    # driver 종료\n",
    "#     driver.quit()\n",
    "except Exception as e:\n",
    "    print(e)\n"
   ]
  },
  {
   "cell_type": "code",
   "execution_count": null,
   "id": "7b3b4278",
   "metadata": {},
   "outputs": [],
   "source": []
  }
 ],
 "metadata": {
  "kernelspec": {
   "display_name": "Python 3 (ipykernel)",
   "language": "python",
   "name": "python3"
  },
  "language_info": {
   "codemirror_mode": {
    "name": "ipython",
    "version": 3
   },
   "file_extension": ".py",
   "mimetype": "text/x-python",
   "name": "python",
   "nbconvert_exporter": "python",
   "pygments_lexer": "ipython3",
   "version": "3.10.11"
  }
 },
 "nbformat": 4,
 "nbformat_minor": 5
}
