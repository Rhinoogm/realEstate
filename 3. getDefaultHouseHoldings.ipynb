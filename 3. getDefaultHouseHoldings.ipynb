{
 "cells": [
  {
   "cell_type": "code",
   "execution_count": 1,
   "id": "b9e97642",
   "metadata": {},
   "outputs": [
    {
     "name": "stdout",
     "output_type": "stream",
     "text": [
      "243\n"
     ]
    }
   ],
   "source": [
    "import pandas as pd\n",
    "\n",
    "# 파일명\n",
    "file_name = '/Users/rhino/Downloads/HouseHoldingsCode.xlsx'\n",
    "\n",
    "# Daraframe형식으로 엑셀 파일 읽기\n",
    "df = pd.read_excel(file_name)\n",
    "\n",
    "# 데이터 프레임 출력\n",
    "# print(df)\n",
    "# print(df['법정동코드'])\n",
    "# print(df.index)\n",
    "# print(df.columns)\n",
    "# print(df.iloc[:, 0])\n",
    "a = df['법정동코드'] == 1111010400\n",
    "print(df[a].iloc[0, 1])\n",
    "# for data in df.iloc[:, 0]:\n",
    "# #     print(data)\n",
    "#     if 4113510300 == data:\n",
    "#         print(data)"
   ]
  },
  {
   "cell_type": "code",
   "execution_count": 2,
   "id": "93764ab7",
   "metadata": {},
   "outputs": [
    {
     "name": "stdout",
     "output_type": "stream",
     "text": [
      "0        False\n",
      "1        False\n",
      "2        False\n",
      "3         True\n",
      "4        False\n",
      "         ...  \n",
      "18667    False\n",
      "18668    False\n",
      "18669    False\n",
      "18670    False\n",
      "18671    False\n",
      "Name: 법정동코드, Length: 18672, dtype: bool\n"
     ]
    }
   ],
   "source": [
    "print(a)"
   ]
  },
  {
   "cell_type": "code",
   "execution_count": null,
   "id": "b9b3ac31",
   "metadata": {},
   "outputs": [],
   "source": []
  }
 ],
 "metadata": {
  "kernelspec": {
   "display_name": "Python 3 (ipykernel)",
   "language": "python",
   "name": "python3"
  },
  "language_info": {
   "codemirror_mode": {
    "name": "ipython",
    "version": 3
   },
   "file_extension": ".py",
   "mimetype": "text/x-python",
   "name": "python",
   "nbconvert_exporter": "python",
   "pygments_lexer": "ipython3",
   "version": "3.10.11"
  }
 },
 "nbformat": 4,
 "nbformat_minor": 5
}
